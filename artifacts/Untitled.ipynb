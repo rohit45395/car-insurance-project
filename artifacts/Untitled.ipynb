{
 "cells": [
  {
   "cell_type": "markdown",
   "id": "a9a7a88e",
   "metadata": {},
   "source": [
    "#  Step 2  EDA\n"
   ]
  },
  {
   "cell_type": "code",
   "execution_count": 92,
   "id": "9e76555d",
   "metadata": {},
   "outputs": [
    {
     "name": "stdout",
     "output_type": "stream",
     "text": [
      "Python 3.10.5\n"
     ]
    }
   ],
   "source": [
    "!python --version\n"
   ]
  },
  {
   "cell_type": "code",
   "execution_count": 93,
   "id": "ca6ae9e0",
   "metadata": {},
   "outputs": [],
   "source": [
    "import pandas as pd\n",
    "import numpy as np\n"
   ]
  },
  {
   "cell_type": "code",
   "execution_count": 94,
   "id": "51ddb687",
   "metadata": {},
   "outputs": [
    {
     "data": {
      "text/html": [
       "<div>\n",
       "<style scoped>\n",
       "    .dataframe tbody tr th:only-of-type {\n",
       "        vertical-align: middle;\n",
       "    }\n",
       "\n",
       "    .dataframe tbody tr th {\n",
       "        vertical-align: top;\n",
       "    }\n",
       "\n",
       "    .dataframe thead th {\n",
       "        text-align: right;\n",
       "    }\n",
       "</style>\n",
       "<table border=\"1\" class=\"dataframe\">\n",
       "  <thead>\n",
       "    <tr style=\"text-align: right;\">\n",
       "      <th></th>\n",
       "      <th>ID</th>\n",
       "      <th>AGE</th>\n",
       "      <th>GENDER</th>\n",
       "      <th>RACE</th>\n",
       "      <th>DRIVING_EXPERIENCE</th>\n",
       "      <th>EDUCATION</th>\n",
       "      <th>INCOME</th>\n",
       "      <th>CREDIT_SCORE</th>\n",
       "      <th>VEHICLE_OWNERSHIP</th>\n",
       "      <th>VEHICLE_YEAR</th>\n",
       "      <th>MARRIED</th>\n",
       "      <th>CHILDREN</th>\n",
       "      <th>POSTAL_CODE</th>\n",
       "      <th>ANNUAL_MILEAGE</th>\n",
       "      <th>VEHICLE_TYPE</th>\n",
       "      <th>SPEEDING_VIOLATIONS</th>\n",
       "      <th>DUIS</th>\n",
       "      <th>PAST_ACCIDENTS</th>\n",
       "      <th>OUTCOME</th>\n",
       "    </tr>\n",
       "  </thead>\n",
       "  <tbody>\n",
       "    <tr>\n",
       "      <th>0</th>\n",
       "      <td>569520</td>\n",
       "      <td>65+</td>\n",
       "      <td>female</td>\n",
       "      <td>majority</td>\n",
       "      <td>0-9y</td>\n",
       "      <td>high school</td>\n",
       "      <td>upper class</td>\n",
       "      <td>0.629027</td>\n",
       "      <td>1.0</td>\n",
       "      <td>after 2015</td>\n",
       "      <td>0.0</td>\n",
       "      <td>1.0</td>\n",
       "      <td>10238</td>\n",
       "      <td>12000.0</td>\n",
       "      <td>sedan</td>\n",
       "      <td>0</td>\n",
       "      <td>0</td>\n",
       "      <td>0</td>\n",
       "      <td>0.0</td>\n",
       "    </tr>\n",
       "    <tr>\n",
       "      <th>1</th>\n",
       "      <td>750365</td>\n",
       "      <td>16-25</td>\n",
       "      <td>male</td>\n",
       "      <td>majority</td>\n",
       "      <td>0-9y</td>\n",
       "      <td>none</td>\n",
       "      <td>poverty</td>\n",
       "      <td>0.357757</td>\n",
       "      <td>0.0</td>\n",
       "      <td>before 2015</td>\n",
       "      <td>0.0</td>\n",
       "      <td>0.0</td>\n",
       "      <td>10238</td>\n",
       "      <td>16000.0</td>\n",
       "      <td>sedan</td>\n",
       "      <td>0</td>\n",
       "      <td>0</td>\n",
       "      <td>0</td>\n",
       "      <td>1.0</td>\n",
       "    </tr>\n",
       "    <tr>\n",
       "      <th>2</th>\n",
       "      <td>199901</td>\n",
       "      <td>16-25</td>\n",
       "      <td>female</td>\n",
       "      <td>majority</td>\n",
       "      <td>0-9y</td>\n",
       "      <td>high school</td>\n",
       "      <td>working class</td>\n",
       "      <td>0.493146</td>\n",
       "      <td>1.0</td>\n",
       "      <td>before 2015</td>\n",
       "      <td>0.0</td>\n",
       "      <td>0.0</td>\n",
       "      <td>10238</td>\n",
       "      <td>11000.0</td>\n",
       "      <td>sedan</td>\n",
       "      <td>0</td>\n",
       "      <td>0</td>\n",
       "      <td>0</td>\n",
       "      <td>0.0</td>\n",
       "    </tr>\n",
       "    <tr>\n",
       "      <th>3</th>\n",
       "      <td>478866</td>\n",
       "      <td>16-25</td>\n",
       "      <td>male</td>\n",
       "      <td>majority</td>\n",
       "      <td>0-9y</td>\n",
       "      <td>university</td>\n",
       "      <td>working class</td>\n",
       "      <td>0.206013</td>\n",
       "      <td>1.0</td>\n",
       "      <td>before 2015</td>\n",
       "      <td>0.0</td>\n",
       "      <td>1.0</td>\n",
       "      <td>32765</td>\n",
       "      <td>11000.0</td>\n",
       "      <td>sedan</td>\n",
       "      <td>0</td>\n",
       "      <td>0</td>\n",
       "      <td>0</td>\n",
       "      <td>0.0</td>\n",
       "    </tr>\n",
       "    <tr>\n",
       "      <th>4</th>\n",
       "      <td>731664</td>\n",
       "      <td>26-39</td>\n",
       "      <td>male</td>\n",
       "      <td>majority</td>\n",
       "      <td>10-19y</td>\n",
       "      <td>none</td>\n",
       "      <td>working class</td>\n",
       "      <td>0.388366</td>\n",
       "      <td>1.0</td>\n",
       "      <td>before 2015</td>\n",
       "      <td>0.0</td>\n",
       "      <td>0.0</td>\n",
       "      <td>32765</td>\n",
       "      <td>12000.0</td>\n",
       "      <td>sedan</td>\n",
       "      <td>2</td>\n",
       "      <td>0</td>\n",
       "      <td>1</td>\n",
       "      <td>1.0</td>\n",
       "    </tr>\n",
       "    <tr>\n",
       "      <th>...</th>\n",
       "      <td>...</td>\n",
       "      <td>...</td>\n",
       "      <td>...</td>\n",
       "      <td>...</td>\n",
       "      <td>...</td>\n",
       "      <td>...</td>\n",
       "      <td>...</td>\n",
       "      <td>...</td>\n",
       "      <td>...</td>\n",
       "      <td>...</td>\n",
       "      <td>...</td>\n",
       "      <td>...</td>\n",
       "      <td>...</td>\n",
       "      <td>...</td>\n",
       "      <td>...</td>\n",
       "      <td>...</td>\n",
       "      <td>...</td>\n",
       "      <td>...</td>\n",
       "      <td>...</td>\n",
       "    </tr>\n",
       "    <tr>\n",
       "      <th>9995</th>\n",
       "      <td>323164</td>\n",
       "      <td>26-39</td>\n",
       "      <td>female</td>\n",
       "      <td>majority</td>\n",
       "      <td>10-19y</td>\n",
       "      <td>university</td>\n",
       "      <td>upper class</td>\n",
       "      <td>0.582787</td>\n",
       "      <td>1.0</td>\n",
       "      <td>before 2015</td>\n",
       "      <td>0.0</td>\n",
       "      <td>0.0</td>\n",
       "      <td>10238</td>\n",
       "      <td>16000.0</td>\n",
       "      <td>sedan</td>\n",
       "      <td>0</td>\n",
       "      <td>0</td>\n",
       "      <td>1</td>\n",
       "      <td>0.0</td>\n",
       "    </tr>\n",
       "    <tr>\n",
       "      <th>9996</th>\n",
       "      <td>910346</td>\n",
       "      <td>26-39</td>\n",
       "      <td>female</td>\n",
       "      <td>majority</td>\n",
       "      <td>10-19y</td>\n",
       "      <td>none</td>\n",
       "      <td>middle class</td>\n",
       "      <td>0.522231</td>\n",
       "      <td>1.0</td>\n",
       "      <td>after 2015</td>\n",
       "      <td>0.0</td>\n",
       "      <td>1.0</td>\n",
       "      <td>32765</td>\n",
       "      <td>NaN</td>\n",
       "      <td>sedan</td>\n",
       "      <td>1</td>\n",
       "      <td>0</td>\n",
       "      <td>0</td>\n",
       "      <td>0.0</td>\n",
       "    </tr>\n",
       "    <tr>\n",
       "      <th>9997</th>\n",
       "      <td>468409</td>\n",
       "      <td>26-39</td>\n",
       "      <td>male</td>\n",
       "      <td>majority</td>\n",
       "      <td>0-9y</td>\n",
       "      <td>high school</td>\n",
       "      <td>middle class</td>\n",
       "      <td>0.470940</td>\n",
       "      <td>1.0</td>\n",
       "      <td>before 2015</td>\n",
       "      <td>0.0</td>\n",
       "      <td>1.0</td>\n",
       "      <td>10238</td>\n",
       "      <td>14000.0</td>\n",
       "      <td>sedan</td>\n",
       "      <td>0</td>\n",
       "      <td>0</td>\n",
       "      <td>0</td>\n",
       "      <td>0.0</td>\n",
       "    </tr>\n",
       "    <tr>\n",
       "      <th>9998</th>\n",
       "      <td>903459</td>\n",
       "      <td>26-39</td>\n",
       "      <td>female</td>\n",
       "      <td>majority</td>\n",
       "      <td>10-19y</td>\n",
       "      <td>high school</td>\n",
       "      <td>poverty</td>\n",
       "      <td>0.364185</td>\n",
       "      <td>0.0</td>\n",
       "      <td>before 2015</td>\n",
       "      <td>0.0</td>\n",
       "      <td>1.0</td>\n",
       "      <td>10238</td>\n",
       "      <td>13000.0</td>\n",
       "      <td>sedan</td>\n",
       "      <td>2</td>\n",
       "      <td>0</td>\n",
       "      <td>1</td>\n",
       "      <td>1.0</td>\n",
       "    </tr>\n",
       "    <tr>\n",
       "      <th>9999</th>\n",
       "      <td>442696</td>\n",
       "      <td>26-39</td>\n",
       "      <td>female</td>\n",
       "      <td>majority</td>\n",
       "      <td>0-9y</td>\n",
       "      <td>none</td>\n",
       "      <td>working class</td>\n",
       "      <td>0.435225</td>\n",
       "      <td>1.0</td>\n",
       "      <td>before 2015</td>\n",
       "      <td>1.0</td>\n",
       "      <td>1.0</td>\n",
       "      <td>10238</td>\n",
       "      <td>13000.0</td>\n",
       "      <td>sedan</td>\n",
       "      <td>0</td>\n",
       "      <td>0</td>\n",
       "      <td>0</td>\n",
       "      <td>0.0</td>\n",
       "    </tr>\n",
       "  </tbody>\n",
       "</table>\n",
       "<p>10000 rows × 19 columns</p>\n",
       "</div>"
      ],
      "text/plain": [
       "          ID    AGE  GENDER      RACE DRIVING_EXPERIENCE    EDUCATION  \\\n",
       "0     569520    65+  female  majority               0-9y  high school   \n",
       "1     750365  16-25    male  majority               0-9y         none   \n",
       "2     199901  16-25  female  majority               0-9y  high school   \n",
       "3     478866  16-25    male  majority               0-9y   university   \n",
       "4     731664  26-39    male  majority             10-19y         none   \n",
       "...      ...    ...     ...       ...                ...          ...   \n",
       "9995  323164  26-39  female  majority             10-19y   university   \n",
       "9996  910346  26-39  female  majority             10-19y         none   \n",
       "9997  468409  26-39    male  majority               0-9y  high school   \n",
       "9998  903459  26-39  female  majority             10-19y  high school   \n",
       "9999  442696  26-39  female  majority               0-9y         none   \n",
       "\n",
       "             INCOME  CREDIT_SCORE  VEHICLE_OWNERSHIP VEHICLE_YEAR  MARRIED  \\\n",
       "0       upper class      0.629027                1.0   after 2015      0.0   \n",
       "1           poverty      0.357757                0.0  before 2015      0.0   \n",
       "2     working class      0.493146                1.0  before 2015      0.0   \n",
       "3     working class      0.206013                1.0  before 2015      0.0   \n",
       "4     working class      0.388366                1.0  before 2015      0.0   \n",
       "...             ...           ...                ...          ...      ...   \n",
       "9995    upper class      0.582787                1.0  before 2015      0.0   \n",
       "9996   middle class      0.522231                1.0   after 2015      0.0   \n",
       "9997   middle class      0.470940                1.0  before 2015      0.0   \n",
       "9998        poverty      0.364185                0.0  before 2015      0.0   \n",
       "9999  working class      0.435225                1.0  before 2015      1.0   \n",
       "\n",
       "      CHILDREN  POSTAL_CODE  ANNUAL_MILEAGE VEHICLE_TYPE  SPEEDING_VIOLATIONS  \\\n",
       "0          1.0        10238         12000.0        sedan                    0   \n",
       "1          0.0        10238         16000.0        sedan                    0   \n",
       "2          0.0        10238         11000.0        sedan                    0   \n",
       "3          1.0        32765         11000.0        sedan                    0   \n",
       "4          0.0        32765         12000.0        sedan                    2   \n",
       "...        ...          ...             ...          ...                  ...   \n",
       "9995       0.0        10238         16000.0        sedan                    0   \n",
       "9996       1.0        32765             NaN        sedan                    1   \n",
       "9997       1.0        10238         14000.0        sedan                    0   \n",
       "9998       1.0        10238         13000.0        sedan                    2   \n",
       "9999       1.0        10238         13000.0        sedan                    0   \n",
       "\n",
       "      DUIS  PAST_ACCIDENTS  OUTCOME  \n",
       "0        0               0      0.0  \n",
       "1        0               0      1.0  \n",
       "2        0               0      0.0  \n",
       "3        0               0      0.0  \n",
       "4        0               1      1.0  \n",
       "...    ...             ...      ...  \n",
       "9995     0               1      0.0  \n",
       "9996     0               0      0.0  \n",
       "9997     0               0      0.0  \n",
       "9998     0               1      1.0  \n",
       "9999     0               0      0.0  \n",
       "\n",
       "[10000 rows x 19 columns]"
      ]
     },
     "execution_count": 94,
     "metadata": {},
     "output_type": "execute_result"
    }
   ],
   "source": [
    "car_df = pd.read_csv('Car_Insurance_Claim.csv')\n",
    "car_df"
   ]
  },
  {
   "cell_type": "code",
   "execution_count": 95,
   "id": "af43abf3",
   "metadata": {},
   "outputs": [
    {
     "name": "stdout",
     "output_type": "stream",
     "text": [
      "<class 'pandas.core.frame.DataFrame'>\n",
      "RangeIndex: 10000 entries, 0 to 9999\n",
      "Data columns (total 19 columns):\n",
      " #   Column               Non-Null Count  Dtype  \n",
      "---  ------               --------------  -----  \n",
      " 0   ID                   10000 non-null  int64  \n",
      " 1   AGE                  10000 non-null  object \n",
      " 2   GENDER               10000 non-null  object \n",
      " 3   RACE                 10000 non-null  object \n",
      " 4   DRIVING_EXPERIENCE   10000 non-null  object \n",
      " 5   EDUCATION            10000 non-null  object \n",
      " 6   INCOME               10000 non-null  object \n",
      " 7   CREDIT_SCORE         9018 non-null   float64\n",
      " 8   VEHICLE_OWNERSHIP    10000 non-null  float64\n",
      " 9   VEHICLE_YEAR         10000 non-null  object \n",
      " 10  MARRIED              10000 non-null  float64\n",
      " 11  CHILDREN             10000 non-null  float64\n",
      " 12  POSTAL_CODE          10000 non-null  int64  \n",
      " 13  ANNUAL_MILEAGE       9043 non-null   float64\n",
      " 14  VEHICLE_TYPE         10000 non-null  object \n",
      " 15  SPEEDING_VIOLATIONS  10000 non-null  int64  \n",
      " 16  DUIS                 10000 non-null  int64  \n",
      " 17  PAST_ACCIDENTS       10000 non-null  int64  \n",
      " 18  OUTCOME              10000 non-null  float64\n",
      "dtypes: float64(6), int64(5), object(8)\n",
      "memory usage: 1.4+ MB\n"
     ]
    }
   ],
   "source": [
    "car_df.info()"
   ]
  },
  {
   "cell_type": "code",
   "execution_count": 96,
   "id": "04d97b3e",
   "metadata": {},
   "outputs": [
    {
     "data": {
      "text/html": [
       "<div>\n",
       "<style scoped>\n",
       "    .dataframe tbody tr th:only-of-type {\n",
       "        vertical-align: middle;\n",
       "    }\n",
       "\n",
       "    .dataframe tbody tr th {\n",
       "        vertical-align: top;\n",
       "    }\n",
       "\n",
       "    .dataframe thead th {\n",
       "        text-align: right;\n",
       "    }\n",
       "</style>\n",
       "<table border=\"1\" class=\"dataframe\">\n",
       "  <thead>\n",
       "    <tr style=\"text-align: right;\">\n",
       "      <th></th>\n",
       "      <th>ID</th>\n",
       "      <th>CREDIT_SCORE</th>\n",
       "      <th>VEHICLE_OWNERSHIP</th>\n",
       "      <th>MARRIED</th>\n",
       "      <th>CHILDREN</th>\n",
       "      <th>POSTAL_CODE</th>\n",
       "      <th>ANNUAL_MILEAGE</th>\n",
       "      <th>SPEEDING_VIOLATIONS</th>\n",
       "      <th>DUIS</th>\n",
       "      <th>PAST_ACCIDENTS</th>\n",
       "      <th>OUTCOME</th>\n",
       "    </tr>\n",
       "  </thead>\n",
       "  <tbody>\n",
       "    <tr>\n",
       "      <th>count</th>\n",
       "      <td>10000.000000</td>\n",
       "      <td>9018.000000</td>\n",
       "      <td>10000.000000</td>\n",
       "      <td>10000.000000</td>\n",
       "      <td>10000.000000</td>\n",
       "      <td>10000.000000</td>\n",
       "      <td>9043.000000</td>\n",
       "      <td>10000.000000</td>\n",
       "      <td>10000.00000</td>\n",
       "      <td>10000.000000</td>\n",
       "      <td>10000.000000</td>\n",
       "    </tr>\n",
       "    <tr>\n",
       "      <th>mean</th>\n",
       "      <td>500521.906800</td>\n",
       "      <td>0.515813</td>\n",
       "      <td>0.697000</td>\n",
       "      <td>0.498200</td>\n",
       "      <td>0.688800</td>\n",
       "      <td>19864.548400</td>\n",
       "      <td>11697.003207</td>\n",
       "      <td>1.482900</td>\n",
       "      <td>0.23920</td>\n",
       "      <td>1.056300</td>\n",
       "      <td>0.313300</td>\n",
       "    </tr>\n",
       "    <tr>\n",
       "      <th>std</th>\n",
       "      <td>290030.768758</td>\n",
       "      <td>0.137688</td>\n",
       "      <td>0.459578</td>\n",
       "      <td>0.500022</td>\n",
       "      <td>0.463008</td>\n",
       "      <td>18915.613855</td>\n",
       "      <td>2818.434528</td>\n",
       "      <td>2.241966</td>\n",
       "      <td>0.55499</td>\n",
       "      <td>1.652454</td>\n",
       "      <td>0.463858</td>\n",
       "    </tr>\n",
       "    <tr>\n",
       "      <th>min</th>\n",
       "      <td>101.000000</td>\n",
       "      <td>0.053358</td>\n",
       "      <td>0.000000</td>\n",
       "      <td>0.000000</td>\n",
       "      <td>0.000000</td>\n",
       "      <td>10238.000000</td>\n",
       "      <td>2000.000000</td>\n",
       "      <td>0.000000</td>\n",
       "      <td>0.00000</td>\n",
       "      <td>0.000000</td>\n",
       "      <td>0.000000</td>\n",
       "    </tr>\n",
       "    <tr>\n",
       "      <th>25%</th>\n",
       "      <td>249638.500000</td>\n",
       "      <td>0.417191</td>\n",
       "      <td>0.000000</td>\n",
       "      <td>0.000000</td>\n",
       "      <td>0.000000</td>\n",
       "      <td>10238.000000</td>\n",
       "      <td>10000.000000</td>\n",
       "      <td>0.000000</td>\n",
       "      <td>0.00000</td>\n",
       "      <td>0.000000</td>\n",
       "      <td>0.000000</td>\n",
       "    </tr>\n",
       "    <tr>\n",
       "      <th>50%</th>\n",
       "      <td>501777.000000</td>\n",
       "      <td>0.525033</td>\n",
       "      <td>1.000000</td>\n",
       "      <td>0.000000</td>\n",
       "      <td>1.000000</td>\n",
       "      <td>10238.000000</td>\n",
       "      <td>12000.000000</td>\n",
       "      <td>0.000000</td>\n",
       "      <td>0.00000</td>\n",
       "      <td>0.000000</td>\n",
       "      <td>0.000000</td>\n",
       "    </tr>\n",
       "    <tr>\n",
       "      <th>75%</th>\n",
       "      <td>753974.500000</td>\n",
       "      <td>0.618312</td>\n",
       "      <td>1.000000</td>\n",
       "      <td>1.000000</td>\n",
       "      <td>1.000000</td>\n",
       "      <td>32765.000000</td>\n",
       "      <td>14000.000000</td>\n",
       "      <td>2.000000</td>\n",
       "      <td>0.00000</td>\n",
       "      <td>2.000000</td>\n",
       "      <td>1.000000</td>\n",
       "    </tr>\n",
       "    <tr>\n",
       "      <th>max</th>\n",
       "      <td>999976.000000</td>\n",
       "      <td>0.960819</td>\n",
       "      <td>1.000000</td>\n",
       "      <td>1.000000</td>\n",
       "      <td>1.000000</td>\n",
       "      <td>92101.000000</td>\n",
       "      <td>22000.000000</td>\n",
       "      <td>22.000000</td>\n",
       "      <td>6.00000</td>\n",
       "      <td>15.000000</td>\n",
       "      <td>1.000000</td>\n",
       "    </tr>\n",
       "  </tbody>\n",
       "</table>\n",
       "</div>"
      ],
      "text/plain": [
       "                  ID  CREDIT_SCORE  VEHICLE_OWNERSHIP       MARRIED  \\\n",
       "count   10000.000000   9018.000000       10000.000000  10000.000000   \n",
       "mean   500521.906800      0.515813           0.697000      0.498200   \n",
       "std    290030.768758      0.137688           0.459578      0.500022   \n",
       "min       101.000000      0.053358           0.000000      0.000000   \n",
       "25%    249638.500000      0.417191           0.000000      0.000000   \n",
       "50%    501777.000000      0.525033           1.000000      0.000000   \n",
       "75%    753974.500000      0.618312           1.000000      1.000000   \n",
       "max    999976.000000      0.960819           1.000000      1.000000   \n",
       "\n",
       "           CHILDREN   POSTAL_CODE  ANNUAL_MILEAGE  SPEEDING_VIOLATIONS  \\\n",
       "count  10000.000000  10000.000000     9043.000000         10000.000000   \n",
       "mean       0.688800  19864.548400    11697.003207             1.482900   \n",
       "std        0.463008  18915.613855     2818.434528             2.241966   \n",
       "min        0.000000  10238.000000     2000.000000             0.000000   \n",
       "25%        0.000000  10238.000000    10000.000000             0.000000   \n",
       "50%        1.000000  10238.000000    12000.000000             0.000000   \n",
       "75%        1.000000  32765.000000    14000.000000             2.000000   \n",
       "max        1.000000  92101.000000    22000.000000            22.000000   \n",
       "\n",
       "              DUIS  PAST_ACCIDENTS       OUTCOME  \n",
       "count  10000.00000    10000.000000  10000.000000  \n",
       "mean       0.23920        1.056300      0.313300  \n",
       "std        0.55499        1.652454      0.463858  \n",
       "min        0.00000        0.000000      0.000000  \n",
       "25%        0.00000        0.000000      0.000000  \n",
       "50%        0.00000        0.000000      0.000000  \n",
       "75%        0.00000        2.000000      1.000000  \n",
       "max        6.00000       15.000000      1.000000  "
      ]
     },
     "execution_count": 96,
     "metadata": {},
     "output_type": "execute_result"
    }
   ],
   "source": [
    "car_df.describe()"
   ]
  },
  {
   "cell_type": "code",
   "execution_count": null,
   "id": "bef003fe",
   "metadata": {},
   "outputs": [],
   "source": []
  },
  {
   "cell_type": "code",
   "execution_count": 97,
   "id": "86cc3c10",
   "metadata": {},
   "outputs": [],
   "source": [
    "car_df['CREDIT_SCORE']= car_df['CREDIT_SCORE'].fillna(car_df['CREDIT_SCORE'].mean())"
   ]
  },
  {
   "cell_type": "code",
   "execution_count": 98,
   "id": "c6072c2c",
   "metadata": {},
   "outputs": [
    {
     "data": {
      "text/plain": [
       "9.569999999999999"
      ]
     },
     "execution_count": 98,
     "metadata": {},
     "output_type": "execute_result"
    }
   ],
   "source": [
    "car_df['ANNUAL_MILEAGE'].isnull().sum()/len(car_df['ANNUAL_MILEAGE'])*100"
   ]
  },
  {
   "cell_type": "code",
   "execution_count": 99,
   "id": "e852592c",
   "metadata": {},
   "outputs": [
    {
     "data": {
      "text/plain": [
       "0    11000.0\n",
       "Name: ANNUAL_MILEAGE, dtype: float64"
      ]
     },
     "execution_count": 99,
     "metadata": {},
     "output_type": "execute_result"
    }
   ],
   "source": [
    "car_df['ANNUAL_MILEAGE'].mode()"
   ]
  },
  {
   "cell_type": "code",
   "execution_count": 100,
   "id": "b4b77c71",
   "metadata": {},
   "outputs": [],
   "source": [
    "car_df['ANNUAL_MILEAGE'].fillna(11000.0,inplace=True)"
   ]
  },
  {
   "cell_type": "code",
   "execution_count": 101,
   "id": "e0539e6b",
   "metadata": {},
   "outputs": [
    {
     "name": "stdout",
     "output_type": "stream",
     "text": [
      "<class 'pandas.core.frame.DataFrame'>\n",
      "RangeIndex: 10000 entries, 0 to 9999\n",
      "Data columns (total 19 columns):\n",
      " #   Column               Non-Null Count  Dtype  \n",
      "---  ------               --------------  -----  \n",
      " 0   ID                   10000 non-null  int64  \n",
      " 1   AGE                  10000 non-null  object \n",
      " 2   GENDER               10000 non-null  object \n",
      " 3   RACE                 10000 non-null  object \n",
      " 4   DRIVING_EXPERIENCE   10000 non-null  object \n",
      " 5   EDUCATION            10000 non-null  object \n",
      " 6   INCOME               10000 non-null  object \n",
      " 7   CREDIT_SCORE         10000 non-null  float64\n",
      " 8   VEHICLE_OWNERSHIP    10000 non-null  float64\n",
      " 9   VEHICLE_YEAR         10000 non-null  object \n",
      " 10  MARRIED              10000 non-null  float64\n",
      " 11  CHILDREN             10000 non-null  float64\n",
      " 12  POSTAL_CODE          10000 non-null  int64  \n",
      " 13  ANNUAL_MILEAGE       10000 non-null  float64\n",
      " 14  VEHICLE_TYPE         10000 non-null  object \n",
      " 15  SPEEDING_VIOLATIONS  10000 non-null  int64  \n",
      " 16  DUIS                 10000 non-null  int64  \n",
      " 17  PAST_ACCIDENTS       10000 non-null  int64  \n",
      " 18  OUTCOME              10000 non-null  float64\n",
      "dtypes: float64(6), int64(5), object(8)\n",
      "memory usage: 1.4+ MB\n"
     ]
    }
   ],
   "source": [
    "car_df.info()"
   ]
  },
  {
   "cell_type": "code",
   "execution_count": 102,
   "id": "56bd6ebc",
   "metadata": {},
   "outputs": [
    {
     "data": {
      "text/plain": [
       "array(['65+', '16-25', '26-39', '40-64'], dtype=object)"
      ]
     },
     "execution_count": 102,
     "metadata": {},
     "output_type": "execute_result"
    }
   ],
   "source": [
    "car_df['AGE'].unique()"
   ]
  },
  {
   "cell_type": "code",
   "execution_count": 103,
   "id": "9b48608a",
   "metadata": {},
   "outputs": [],
   "source": [
    "from sklearn.preprocessing import LabelEncoder"
   ]
  },
  {
   "cell_type": "code",
   "execution_count": 104,
   "id": "708f524c",
   "metadata": {},
   "outputs": [],
   "source": [
    "le = LabelEncoder()\n",
    "\n",
    "car_df['AGE']= le.fit_transform(car_df['AGE'])"
   ]
  },
  {
   "cell_type": "code",
   "execution_count": 105,
   "id": "3727b8d8",
   "metadata": {},
   "outputs": [
    {
     "data": {
      "text/plain": [
       "array([3, 0, 1, 2])"
      ]
     },
     "execution_count": 105,
     "metadata": {},
     "output_type": "execute_result"
    }
   ],
   "source": [
    "car_df['AGE'].unique()"
   ]
  },
  {
   "cell_type": "code",
   "execution_count": 106,
   "id": "cf95cde4",
   "metadata": {},
   "outputs": [
    {
     "data": {
      "text/plain": [
       "array(['female', 'male'], dtype=object)"
      ]
     },
     "execution_count": 106,
     "metadata": {},
     "output_type": "execute_result"
    }
   ],
   "source": [
    "car_df['GENDER'].unique()"
   ]
  },
  {
   "cell_type": "code",
   "execution_count": 107,
   "id": "d6d20ccc",
   "metadata": {},
   "outputs": [],
   "source": [
    "car_df['GENDER'].replace({'female':0,'male':1},inplace=True)"
   ]
  },
  {
   "cell_type": "code",
   "execution_count": 108,
   "id": "5b26318f",
   "metadata": {},
   "outputs": [
    {
     "data": {
      "text/plain": [
       "0    0\n",
       "1    1\n",
       "2    0\n",
       "3    1\n",
       "4    1\n",
       "Name: GENDER, dtype: int64"
      ]
     },
     "execution_count": 108,
     "metadata": {},
     "output_type": "execute_result"
    }
   ],
   "source": [
    "car_df['GENDER'].head()"
   ]
  },
  {
   "cell_type": "code",
   "execution_count": 109,
   "id": "730db85e",
   "metadata": {},
   "outputs": [
    {
     "data": {
      "text/plain": [
       "array(['majority', 'minority'], dtype=object)"
      ]
     },
     "execution_count": 109,
     "metadata": {},
     "output_type": "execute_result"
    }
   ],
   "source": [
    "car_df['RACE'].unique()"
   ]
  },
  {
   "cell_type": "code",
   "execution_count": 110,
   "id": "85f8bc09",
   "metadata": {},
   "outputs": [],
   "source": [
    "car_df['RACE'].replace({'minority':0,'majority':1},inplace=True)"
   ]
  },
  {
   "cell_type": "code",
   "execution_count": 111,
   "id": "7654e79f",
   "metadata": {},
   "outputs": [
    {
     "data": {
      "text/plain": [
       "0    1\n",
       "1    1\n",
       "2    1\n",
       "3    1\n",
       "4    1\n",
       "Name: RACE, dtype: int64"
      ]
     },
     "execution_count": 111,
     "metadata": {},
     "output_type": "execute_result"
    }
   ],
   "source": [
    "car_df['RACE'].head()"
   ]
  },
  {
   "cell_type": "code",
   "execution_count": 112,
   "id": "f3c394a3",
   "metadata": {},
   "outputs": [
    {
     "data": {
      "text/plain": [
       "array(['0-9y', '10-19y', '20-29y', '30y+'], dtype=object)"
      ]
     },
     "execution_count": 112,
     "metadata": {},
     "output_type": "execute_result"
    }
   ],
   "source": [
    "car_df['DRIVING_EXPERIENCE'].unique()"
   ]
  },
  {
   "cell_type": "code",
   "execution_count": 113,
   "id": "4bcd9ced",
   "metadata": {},
   "outputs": [
    {
     "data": {
      "text/plain": [
       "array(['0-9y', '10-19y', '20-29y', '30y+'], dtype=object)"
      ]
     },
     "execution_count": 113,
     "metadata": {},
     "output_type": "execute_result"
    }
   ],
   "source": [
    "car_df['DRIVING_EXPERIENCE'].unique()"
   ]
  },
  {
   "cell_type": "code",
   "execution_count": 114,
   "id": "2103f88f",
   "metadata": {},
   "outputs": [],
   "source": [
    "car_df['DRIVING_EXPERIENCE']=le.fit_transform(car_df['DRIVING_EXPERIENCE'])"
   ]
  },
  {
   "cell_type": "code",
   "execution_count": 115,
   "id": "9df6cab9",
   "metadata": {},
   "outputs": [
    {
     "data": {
      "text/plain": [
       "array([0, 1, 2, 3])"
      ]
     },
     "execution_count": 115,
     "metadata": {},
     "output_type": "execute_result"
    }
   ],
   "source": [
    "car_df['DRIVING_EXPERIENCE'].unique()"
   ]
  },
  {
   "cell_type": "code",
   "execution_count": 116,
   "id": "b26cc68a",
   "metadata": {},
   "outputs": [
    {
     "data": {
      "text/plain": [
       "array(['high school', 'none', 'university'], dtype=object)"
      ]
     },
     "execution_count": 116,
     "metadata": {},
     "output_type": "execute_result"
    }
   ],
   "source": [
    "car_df['EDUCATION'].unique()"
   ]
  },
  {
   "cell_type": "code",
   "execution_count": 117,
   "id": "8ab68768",
   "metadata": {},
   "outputs": [
    {
     "data": {
      "text/plain": [
       "high school    4157\n",
       "university     3928\n",
       "none           1915\n",
       "Name: EDUCATION, dtype: int64"
      ]
     },
     "execution_count": 117,
     "metadata": {},
     "output_type": "execute_result"
    }
   ],
   "source": [
    "car_df['EDUCATION'].value_counts()"
   ]
  },
  {
   "cell_type": "code",
   "execution_count": 118,
   "id": "ac55d93d",
   "metadata": {},
   "outputs": [],
   "source": [
    "car_df['EDUCATION'].replace({'none':0,'high school':1,'university':2},inplace=True)"
   ]
  },
  {
   "cell_type": "code",
   "execution_count": 119,
   "id": "f15ee5f7",
   "metadata": {},
   "outputs": [
    {
     "data": {
      "text/plain": [
       "array(['upper class', 'poverty', 'working class', 'middle class'],\n",
       "      dtype=object)"
      ]
     },
     "execution_count": 119,
     "metadata": {},
     "output_type": "execute_result"
    }
   ],
   "source": [
    "car_df['INCOME'].unique()"
   ]
  },
  {
   "cell_type": "code",
   "execution_count": 120,
   "id": "48e66515",
   "metadata": {},
   "outputs": [],
   "source": [
    "car_df['INCOME'].replace({'poverty':0,'middle class':1,'working class':2,'upper class':3},inplace=True)"
   ]
  },
  {
   "cell_type": "code",
   "execution_count": 121,
   "id": "fb6fc3c0",
   "metadata": {},
   "outputs": [
    {
     "data": {
      "text/plain": [
       "array(['after 2015', 'before 2015'], dtype=object)"
      ]
     },
     "execution_count": 121,
     "metadata": {},
     "output_type": "execute_result"
    }
   ],
   "source": [
    "car_df['VEHICLE_YEAR'].unique()"
   ]
  },
  {
   "cell_type": "code",
   "execution_count": 122,
   "id": "dd2573b9",
   "metadata": {},
   "outputs": [],
   "source": [
    "car_df['VEHICLE_YEAR'].replace({'before 2015':0,'after 2015':1},inplace=True)"
   ]
  },
  {
   "cell_type": "code",
   "execution_count": 123,
   "id": "e1a8e343",
   "metadata": {},
   "outputs": [
    {
     "data": {
      "text/plain": [
       "array([10238, 32765, 92101, 21217], dtype=int64)"
      ]
     },
     "execution_count": 123,
     "metadata": {},
     "output_type": "execute_result"
    }
   ],
   "source": [
    "car_df['POSTAL_CODE'].unique()"
   ]
  },
  {
   "cell_type": "code",
   "execution_count": 124,
   "id": "606ff1b1",
   "metadata": {},
   "outputs": [],
   "source": [
    "car_df['POSTAL_CODE']=le.fit_transform(car_df['POSTAL_CODE'])"
   ]
  },
  {
   "cell_type": "code",
   "execution_count": 125,
   "id": "8bbefec4",
   "metadata": {},
   "outputs": [
    {
     "data": {
      "text/plain": [
       "array(['sedan', 'sports car'], dtype=object)"
      ]
     },
     "execution_count": 125,
     "metadata": {},
     "output_type": "execute_result"
    }
   ],
   "source": [
    "car_df['VEHICLE_TYPE'].unique()"
   ]
  },
  {
   "cell_type": "code",
   "execution_count": 126,
   "id": "ee34275d",
   "metadata": {},
   "outputs": [],
   "source": [
    "car_df['VEHICLE_TYPE'].replace({'sedan':0,'sports car':1},inplace=True)"
   ]
  },
  {
   "cell_type": "code",
   "execution_count": 127,
   "id": "d40002a6",
   "metadata": {},
   "outputs": [
    {
     "data": {
      "text/plain": [
       "array([ 0,  2,  3,  7,  6,  4, 10, 13,  1,  5,  9,  8, 12, 11, 15, 17, 19,\n",
       "       18, 16, 14, 22], dtype=int64)"
      ]
     },
     "execution_count": 127,
     "metadata": {},
     "output_type": "execute_result"
    }
   ],
   "source": [
    "car_df['SPEEDING_VIOLATIONS'].unique()"
   ]
  },
  {
   "cell_type": "code",
   "execution_count": 128,
   "id": "386a58b8",
   "metadata": {},
   "outputs": [
    {
     "data": {
      "text/plain": [
       "array([0, 2, 1, 3, 4, 5, 6], dtype=int64)"
      ]
     },
     "execution_count": 128,
     "metadata": {},
     "output_type": "execute_result"
    }
   ],
   "source": [
    "car_df['DUIS'].unique()"
   ]
  },
  {
   "cell_type": "code",
   "execution_count": 129,
   "id": "3bf1d059",
   "metadata": {},
   "outputs": [
    {
     "data": {
      "text/plain": [
       "array([ 0,  1,  3,  7,  2,  5,  4,  6,  8, 10, 11,  9, 12, 14, 15],\n",
       "      dtype=int64)"
      ]
     },
     "execution_count": 129,
     "metadata": {},
     "output_type": "execute_result"
    }
   ],
   "source": [
    "car_df['PAST_ACCIDENTS'].unique()"
   ]
  },
  {
   "cell_type": "code",
   "execution_count": 130,
   "id": "a0c7aa91",
   "metadata": {},
   "outputs": [
    {
     "data": {
      "text/plain": [
       "0    0.0\n",
       "1    1.0\n",
       "2    0.0\n",
       "3    0.0\n",
       "4    1.0\n",
       "Name: OUTCOME, dtype: float64"
      ]
     },
     "execution_count": 130,
     "metadata": {},
     "output_type": "execute_result"
    }
   ],
   "source": [
    "car_df['OUTCOME'].head()"
   ]
  },
  {
   "cell_type": "code",
   "execution_count": 131,
   "id": "7e161013",
   "metadata": {},
   "outputs": [],
   "source": [
    "import seaborn as sns\n",
    "import matplotlib.pyplot as plt"
   ]
  },
  {
   "cell_type": "code",
   "execution_count": 132,
   "id": "67197b98",
   "metadata": {},
   "outputs": [
    {
     "data": {
      "text/plain": [
       "Index(['ID', 'AGE', 'GENDER', 'RACE', 'DRIVING_EXPERIENCE', 'EDUCATION',\n",
       "       'INCOME', 'CREDIT_SCORE', 'VEHICLE_OWNERSHIP', 'VEHICLE_YEAR',\n",
       "       'MARRIED', 'CHILDREN', 'POSTAL_CODE', 'ANNUAL_MILEAGE', 'VEHICLE_TYPE',\n",
       "       'SPEEDING_VIOLATIONS', 'DUIS', 'PAST_ACCIDENTS', 'OUTCOME'],\n",
       "      dtype='object')"
      ]
     },
     "execution_count": 132,
     "metadata": {},
     "output_type": "execute_result"
    }
   ],
   "source": [
    "car_df.columns"
   ]
  },
  {
   "cell_type": "code",
   "execution_count": null,
   "id": "0e615b84",
   "metadata": {},
   "outputs": [],
   "source": []
  },
  {
   "cell_type": "markdown",
   "id": "2ff409d0",
   "metadata": {},
   "source": [
    "# Feature Sellection"
   ]
  },
  {
   "cell_type": "code",
   "execution_count": 133,
   "id": "01692c1f",
   "metadata": {},
   "outputs": [],
   "source": [
    "from sklearn.model_selection import train_test_split"
   ]
  },
  {
   "cell_type": "code",
   "execution_count": 134,
   "id": "fe86209b",
   "metadata": {},
   "outputs": [],
   "source": [
    "x=car_df.drop(columns=['ID','OUTCOME','MARRIED','CHILDREN','EDUCATION'])\n",
    "y=car_df[\"OUTCOME\"]"
   ]
  },
  {
   "cell_type": "code",
   "execution_count": 135,
   "id": "7aac3667",
   "metadata": {},
   "outputs": [],
   "source": [
    "x_train,x_test,y_train,y_test=train_test_split(x,y,test_size=0.3,random_state=45,stratify=y)"
   ]
  },
  {
   "cell_type": "code",
   "execution_count": 136,
   "id": "2af81db6",
   "metadata": {
    "scrolled": true
   },
   "outputs": [
    {
     "data": {
      "text/html": [
       "<div>\n",
       "<style scoped>\n",
       "    .dataframe tbody tr th:only-of-type {\n",
       "        vertical-align: middle;\n",
       "    }\n",
       "\n",
       "    .dataframe tbody tr th {\n",
       "        vertical-align: top;\n",
       "    }\n",
       "\n",
       "    .dataframe thead th {\n",
       "        text-align: right;\n",
       "    }\n",
       "</style>\n",
       "<table border=\"1\" class=\"dataframe\">\n",
       "  <thead>\n",
       "    <tr style=\"text-align: right;\">\n",
       "      <th></th>\n",
       "      <th>AGE</th>\n",
       "      <th>GENDER</th>\n",
       "      <th>RACE</th>\n",
       "      <th>DRIVING_EXPERIENCE</th>\n",
       "      <th>INCOME</th>\n",
       "      <th>CREDIT_SCORE</th>\n",
       "      <th>VEHICLE_OWNERSHIP</th>\n",
       "      <th>VEHICLE_YEAR</th>\n",
       "      <th>POSTAL_CODE</th>\n",
       "      <th>ANNUAL_MILEAGE</th>\n",
       "      <th>VEHICLE_TYPE</th>\n",
       "      <th>SPEEDING_VIOLATIONS</th>\n",
       "      <th>DUIS</th>\n",
       "      <th>PAST_ACCIDENTS</th>\n",
       "    </tr>\n",
       "  </thead>\n",
       "  <tbody>\n",
       "    <tr>\n",
       "      <th>5671</th>\n",
       "      <td>2</td>\n",
       "      <td>0</td>\n",
       "      <td>1</td>\n",
       "      <td>2</td>\n",
       "      <td>3</td>\n",
       "      <td>0.635655</td>\n",
       "      <td>0.0</td>\n",
       "      <td>1</td>\n",
       "      <td>2</td>\n",
       "      <td>8000.0</td>\n",
       "      <td>0</td>\n",
       "      <td>2</td>\n",
       "      <td>0</td>\n",
       "      <td>0</td>\n",
       "    </tr>\n",
       "    <tr>\n",
       "      <th>2718</th>\n",
       "      <td>3</td>\n",
       "      <td>0</td>\n",
       "      <td>1</td>\n",
       "      <td>3</td>\n",
       "      <td>2</td>\n",
       "      <td>0.260393</td>\n",
       "      <td>0.0</td>\n",
       "      <td>1</td>\n",
       "      <td>0</td>\n",
       "      <td>12000.0</td>\n",
       "      <td>0</td>\n",
       "      <td>0</td>\n",
       "      <td>3</td>\n",
       "      <td>1</td>\n",
       "    </tr>\n",
       "    <tr>\n",
       "      <th>3059</th>\n",
       "      <td>2</td>\n",
       "      <td>1</td>\n",
       "      <td>1</td>\n",
       "      <td>2</td>\n",
       "      <td>3</td>\n",
       "      <td>0.562776</td>\n",
       "      <td>1.0</td>\n",
       "      <td>0</td>\n",
       "      <td>0</td>\n",
       "      <td>14000.0</td>\n",
       "      <td>1</td>\n",
       "      <td>3</td>\n",
       "      <td>1</td>\n",
       "      <td>0</td>\n",
       "    </tr>\n",
       "    <tr>\n",
       "      <th>3976</th>\n",
       "      <td>0</td>\n",
       "      <td>1</td>\n",
       "      <td>1</td>\n",
       "      <td>0</td>\n",
       "      <td>0</td>\n",
       "      <td>0.525230</td>\n",
       "      <td>1.0</td>\n",
       "      <td>0</td>\n",
       "      <td>0</td>\n",
       "      <td>12000.0</td>\n",
       "      <td>0</td>\n",
       "      <td>0</td>\n",
       "      <td>0</td>\n",
       "      <td>0</td>\n",
       "    </tr>\n",
       "    <tr>\n",
       "      <th>7319</th>\n",
       "      <td>0</td>\n",
       "      <td>0</td>\n",
       "      <td>1</td>\n",
       "      <td>0</td>\n",
       "      <td>1</td>\n",
       "      <td>0.552022</td>\n",
       "      <td>0.0</td>\n",
       "      <td>0</td>\n",
       "      <td>0</td>\n",
       "      <td>22000.0</td>\n",
       "      <td>0</td>\n",
       "      <td>0</td>\n",
       "      <td>0</td>\n",
       "      <td>0</td>\n",
       "    </tr>\n",
       "    <tr>\n",
       "      <th>...</th>\n",
       "      <td>...</td>\n",
       "      <td>...</td>\n",
       "      <td>...</td>\n",
       "      <td>...</td>\n",
       "      <td>...</td>\n",
       "      <td>...</td>\n",
       "      <td>...</td>\n",
       "      <td>...</td>\n",
       "      <td>...</td>\n",
       "      <td>...</td>\n",
       "      <td>...</td>\n",
       "      <td>...</td>\n",
       "      <td>...</td>\n",
       "      <td>...</td>\n",
       "    </tr>\n",
       "    <tr>\n",
       "      <th>1615</th>\n",
       "      <td>1</td>\n",
       "      <td>0</td>\n",
       "      <td>1</td>\n",
       "      <td>1</td>\n",
       "      <td>3</td>\n",
       "      <td>0.590976</td>\n",
       "      <td>1.0</td>\n",
       "      <td>1</td>\n",
       "      <td>0</td>\n",
       "      <td>14000.0</td>\n",
       "      <td>0</td>\n",
       "      <td>0</td>\n",
       "      <td>0</td>\n",
       "      <td>0</td>\n",
       "    </tr>\n",
       "    <tr>\n",
       "      <th>6520</th>\n",
       "      <td>1</td>\n",
       "      <td>1</td>\n",
       "      <td>1</td>\n",
       "      <td>0</td>\n",
       "      <td>1</td>\n",
       "      <td>0.432472</td>\n",
       "      <td>1.0</td>\n",
       "      <td>0</td>\n",
       "      <td>2</td>\n",
       "      <td>13000.0</td>\n",
       "      <td>0</td>\n",
       "      <td>0</td>\n",
       "      <td>0</td>\n",
       "      <td>0</td>\n",
       "    </tr>\n",
       "    <tr>\n",
       "      <th>465</th>\n",
       "      <td>0</td>\n",
       "      <td>1</td>\n",
       "      <td>1</td>\n",
       "      <td>0</td>\n",
       "      <td>2</td>\n",
       "      <td>0.370792</td>\n",
       "      <td>0.0</td>\n",
       "      <td>0</td>\n",
       "      <td>0</td>\n",
       "      <td>13000.0</td>\n",
       "      <td>0</td>\n",
       "      <td>0</td>\n",
       "      <td>0</td>\n",
       "      <td>0</td>\n",
       "    </tr>\n",
       "    <tr>\n",
       "      <th>46</th>\n",
       "      <td>3</td>\n",
       "      <td>1</td>\n",
       "      <td>1</td>\n",
       "      <td>2</td>\n",
       "      <td>3</td>\n",
       "      <td>0.625626</td>\n",
       "      <td>1.0</td>\n",
       "      <td>1</td>\n",
       "      <td>0</td>\n",
       "      <td>7000.0</td>\n",
       "      <td>0</td>\n",
       "      <td>7</td>\n",
       "      <td>0</td>\n",
       "      <td>5</td>\n",
       "    </tr>\n",
       "    <tr>\n",
       "      <th>3522</th>\n",
       "      <td>3</td>\n",
       "      <td>0</td>\n",
       "      <td>1</td>\n",
       "      <td>1</td>\n",
       "      <td>3</td>\n",
       "      <td>0.595936</td>\n",
       "      <td>1.0</td>\n",
       "      <td>1</td>\n",
       "      <td>2</td>\n",
       "      <td>11000.0</td>\n",
       "      <td>0</td>\n",
       "      <td>1</td>\n",
       "      <td>0</td>\n",
       "      <td>0</td>\n",
       "    </tr>\n",
       "  </tbody>\n",
       "</table>\n",
       "<p>7000 rows × 14 columns</p>\n",
       "</div>"
      ],
      "text/plain": [
       "      AGE  GENDER  RACE  DRIVING_EXPERIENCE  INCOME  CREDIT_SCORE  \\\n",
       "5671    2       0     1                   2       3      0.635655   \n",
       "2718    3       0     1                   3       2      0.260393   \n",
       "3059    2       1     1                   2       3      0.562776   \n",
       "3976    0       1     1                   0       0      0.525230   \n",
       "7319    0       0     1                   0       1      0.552022   \n",
       "...   ...     ...   ...                 ...     ...           ...   \n",
       "1615    1       0     1                   1       3      0.590976   \n",
       "6520    1       1     1                   0       1      0.432472   \n",
       "465     0       1     1                   0       2      0.370792   \n",
       "46      3       1     1                   2       3      0.625626   \n",
       "3522    3       0     1                   1       3      0.595936   \n",
       "\n",
       "      VEHICLE_OWNERSHIP  VEHICLE_YEAR  POSTAL_CODE  ANNUAL_MILEAGE  \\\n",
       "5671                0.0             1            2          8000.0   \n",
       "2718                0.0             1            0         12000.0   \n",
       "3059                1.0             0            0         14000.0   \n",
       "3976                1.0             0            0         12000.0   \n",
       "7319                0.0             0            0         22000.0   \n",
       "...                 ...           ...          ...             ...   \n",
       "1615                1.0             1            0         14000.0   \n",
       "6520                1.0             0            2         13000.0   \n",
       "465                 0.0             0            0         13000.0   \n",
       "46                  1.0             1            0          7000.0   \n",
       "3522                1.0             1            2         11000.0   \n",
       "\n",
       "      VEHICLE_TYPE  SPEEDING_VIOLATIONS  DUIS  PAST_ACCIDENTS  \n",
       "5671             0                    2     0               0  \n",
       "2718             0                    0     3               1  \n",
       "3059             1                    3     1               0  \n",
       "3976             0                    0     0               0  \n",
       "7319             0                    0     0               0  \n",
       "...            ...                  ...   ...             ...  \n",
       "1615             0                    0     0               0  \n",
       "6520             0                    0     0               0  \n",
       "465              0                    0     0               0  \n",
       "46               0                    7     0               5  \n",
       "3522             0                    1     0               0  \n",
       "\n",
       "[7000 rows x 14 columns]"
      ]
     },
     "execution_count": 136,
     "metadata": {},
     "output_type": "execute_result"
    }
   ],
   "source": [
    "x_train"
   ]
  },
  {
   "cell_type": "code",
   "execution_count": 137,
   "id": "dd6dff72",
   "metadata": {},
   "outputs": [
    {
     "data": {
      "text/plain": [
       "5671    0.0\n",
       "2718    0.0\n",
       "3059    0.0\n",
       "3976    1.0\n",
       "7319    1.0\n",
       "       ... \n",
       "1615    0.0\n",
       "6520    1.0\n",
       "465     1.0\n",
       "46      0.0\n",
       "3522    0.0\n",
       "Name: OUTCOME, Length: 7000, dtype: float64"
      ]
     },
     "execution_count": 137,
     "metadata": {},
     "output_type": "execute_result"
    }
   ],
   "source": [
    "y_train"
   ]
  },
  {
   "cell_type": "code",
   "execution_count": null,
   "id": "6a5f466b",
   "metadata": {},
   "outputs": [],
   "source": []
  },
  {
   "cell_type": "markdown",
   "id": "1ea6cccc",
   "metadata": {},
   "source": [
    "#### Model Evaluation"
   ]
  },
  {
   "cell_type": "markdown",
   "id": "a527f359",
   "metadata": {},
   "source": [
    "# 1>LOGISTIC REGRESSION"
   ]
  },
  {
   "cell_type": "code",
   "execution_count": 138,
   "id": "e46cdcf9",
   "metadata": {},
   "outputs": [
    {
     "name": "stdout",
     "output_type": "stream",
     "text": [
      "Accuracy Score = 0.851\n",
      "              precision    recall  f1-score   support\n",
      "\n",
      "         0.0       0.88      0.91      0.89      2060\n",
      "         1.0       0.79      0.71      0.75       940\n",
      "\n",
      "    accuracy                           0.85      3000\n",
      "   macro avg       0.83      0.81      0.82      3000\n",
      "weighted avg       0.85      0.85      0.85      3000\n",
      "\n",
      "[[1881  179]\n",
      " [ 268  672]]\n",
      "Accuracy Score = 0.8434285714285714\n",
      "              precision    recall  f1-score   support\n",
      "\n",
      "         0.0       0.87      0.90      0.89      4807\n",
      "         1.0       0.77      0.72      0.74      2193\n",
      "\n",
      "    accuracy                           0.84      7000\n",
      "   macro avg       0.82      0.81      0.81      7000\n",
      "weighted avg       0.84      0.84      0.84      7000\n",
      "\n",
      "[[4335  472]\n",
      " [ 624 1569]]\n"
     ]
    }
   ],
   "source": [
    "from sklearn.linear_model import LogisticRegression\n",
    "from sklearn.metrics import accuracy_score,confusion_matrix,classification_report\n",
    "\n",
    "\n",
    "lgrs = LogisticRegression()\n",
    "\n",
    "lgrs.fit(x_train,y_train)\n",
    "\n",
    "\n",
    "############ Testing Data Evaluation ################\n",
    "y_pred_test = lgrs.predict(x_test)\n",
    "acc = accuracy_score(y_test,y_pred_test)\n",
    "print(f\"Accuracy Score = {acc}\")\n",
    "print(classification_report(y_test,y_pred_test))\n",
    "print(confusion_matrix(y_test,y_pred_test))\n",
    "\n",
    "\n",
    "########### Traning Data Evaluation ###############\n",
    "\n",
    "y_pred_train = lgrs.predict(x_train)\n",
    "acc = accuracy_score(y_train,y_pred_train)\n",
    "print(f\"Accuracy Score = {acc}\")\n",
    "print(classification_report(y_train,y_pred_train))\n",
    "print(confusion_matrix(y_train,y_pred_train))\n"
   ]
  },
  {
   "cell_type": "markdown",
   "id": "80335290",
   "metadata": {},
   "source": [
    "# Dicision Tree "
   ]
  },
  {
   "cell_type": "code",
   "execution_count": 139,
   "id": "4737033a",
   "metadata": {},
   "outputs": [
    {
     "name": "stdout",
     "output_type": "stream",
     "text": [
      "testing data evaluation\n",
      "\n",
      "Accuracy Score = 0.7956666666666666\n",
      "              precision    recall  f1-score   support\n",
      "\n",
      "         0.0       0.85      0.86      0.85      2060\n",
      "         1.0       0.68      0.66      0.67       940\n",
      "\n",
      "    accuracy                           0.80      3000\n",
      "   macro avg       0.76      0.76      0.76      3000\n",
      "weighted avg       0.79      0.80      0.79      3000\n",
      "\n",
      "[[1767  293]\n",
      " [ 320  620]]\n",
      "**************************************************\n",
      "training data evaluation\n",
      "\n",
      "Accuracy Score = 0.999\n",
      "              precision    recall  f1-score   support\n",
      "\n",
      "         0.0       1.00      1.00      1.00      4807\n",
      "         1.0       1.00      1.00      1.00      2193\n",
      "\n",
      "    accuracy                           1.00      7000\n",
      "   macro avg       1.00      1.00      1.00      7000\n",
      "weighted avg       1.00      1.00      1.00      7000\n",
      "\n",
      "[[4805    2]\n",
      " [   5 2188]]\n"
     ]
    }
   ],
   "source": [
    "from sklearn.tree import DecisionTreeClassifier\n",
    "\n",
    "\n",
    "dt = DecisionTreeClassifier()\n",
    "\n",
    "dt.fit(x_train,y_train)\n",
    "\n",
    "\n",
    "############ Testing Data Evaluation ################\n",
    "print('testing data evaluation')\n",
    "print()\n",
    "y_pred_test_tree = dt.predict(x_test)\n",
    "acc = accuracy_score(y_test,y_pred_test_tree)\n",
    "print(f\"Accuracy Score = {acc}\")\n",
    "print(classification_report(y_test,y_pred_test_tree))\n",
    "print(confusion_matrix(y_test,y_pred_test_tree))\n",
    "\n",
    "print('*'*50)\n",
    "\n",
    "########### Traning Data Evaluation ###############\n",
    "print('training data evaluation')\n",
    "print()\n",
    "y_pred_train = dt.predict(x_train)\n",
    "acc = accuracy_score(y_train,y_pred_train)\n",
    "print(f\"Accuracy Score = {acc}\")\n",
    "print(classification_report(y_train,y_pred_train))\n",
    "print(confusion_matrix(y_train,y_pred_train))\n"
   ]
  },
  {
   "cell_type": "code",
   "execution_count": 140,
   "id": "45311a53",
   "metadata": {},
   "outputs": [
    {
     "data": {
      "text/plain": [
       "{'min_samples_split': 4,\n",
       " 'min_samples_leaf': 2,\n",
       " 'max_depth': 6,\n",
       " 'criterion': 'entropy'}"
      ]
     },
     "execution_count": 140,
     "metadata": {},
     "output_type": "execute_result"
    }
   ],
   "source": [
    "from sklearn.model_selection import GridSearchCV,RandomizedSearchCV\n",
    "\n",
    "\n",
    "hyp = { 'criterion' : ['gini','entropy'],\n",
    "        'max_depth' : np.arange(2,10),\n",
    "        'min_samples_split' : np.arange(2,5),\n",
    "        'min_samples_leaf' : np.arange(2,5)\n",
    "    \n",
    "}\n",
    "rscv_tree_clf  =  RandomizedSearchCV(dt,hyp,cv=5)\n",
    "rscv_tree_clf.fit(x_train,y_train)\n",
    "\n",
    "rscv_tree_clf.best_params_"
   ]
  },
  {
   "cell_type": "code",
   "execution_count": 141,
   "id": "989468d2",
   "metadata": {},
   "outputs": [
    {
     "name": "stdout",
     "output_type": "stream",
     "text": [
      "Accuracy Score = 0.8553333333333333\n",
      "              precision    recall  f1-score   support\n",
      "\n",
      "         0.0       0.89      0.90      0.90      2060\n",
      "         1.0       0.77      0.76      0.77       940\n",
      "\n",
      "    accuracy                           0.86      3000\n",
      "   macro avg       0.83      0.83      0.83      3000\n",
      "weighted avg       0.85      0.86      0.85      3000\n",
      "\n",
      "[[1851  209]\n",
      " [ 225  715]]\n",
      "################# Training ################\n",
      "Accuracy Score = 0.8531428571428571\n",
      "              precision    recall  f1-score   support\n",
      "\n",
      "         0.0       0.89      0.89      0.89      4807\n",
      "         1.0       0.76      0.77      0.77      2193\n",
      "\n",
      "    accuracy                           0.85      7000\n",
      "   macro avg       0.83      0.83      0.83      7000\n",
      "weighted avg       0.85      0.85      0.85      7000\n",
      "\n",
      "[[4284  523]\n",
      " [ 505 1688]]\n"
     ]
    }
   ],
   "source": [
    "y_pred_rscv_tree_clf = rscv_tree_clf.predict(x_test)\n",
    "##### Evaluation Testing \n",
    "\n",
    "acc = accuracy_score(y_test,y_pred_rscv_tree_clf)\n",
    "print(f\"Accuracy Score = {acc}\")\n",
    "print(classification_report(y_test,y_pred_rscv_tree_clf))\n",
    "print(confusion_matrix(y_test,y_pred_rscv_tree_clf))\n",
    "\n",
    "\n",
    "##### Evaluation Training \n",
    "print(\"################# Training ################\")\n",
    "y_pred_train = rscv_tree_clf.predict(x_train)\n",
    "\n",
    "acc = accuracy_score(y_train,y_pred_train)\n",
    "print(f\"Accuracy Score = {acc}\")\n",
    "print(classification_report(y_train,y_pred_train))\n",
    "print(confusion_matrix(y_train,y_pred_train))"
   ]
  },
  {
   "cell_type": "code",
   "execution_count": 142,
   "id": "b61bae1d",
   "metadata": {},
   "outputs": [
    {
     "data": {
      "text/plain": [
       "{'criterion': 'entropy',\n",
       " 'max_depth': 7,\n",
       " 'min_samples_leaf': 6,\n",
       " 'min_samples_split': 2}"
      ]
     },
     "execution_count": 142,
     "metadata": {},
     "output_type": "execute_result"
    }
   ],
   "source": [
    "hyp = { 'criterion' : ['gini','entropy'],\n",
    "        'max_depth' : np.arange(2,10),\n",
    "        'min_samples_split' : np.arange(2,5),\n",
    "        'min_samples_leaf' : np.arange(2,9)\n",
    "    \n",
    "}\n",
    "gscv_tree_clf  =  GridSearchCV(dt,hyp,cv=5)\n",
    "gscv_tree_clf.fit(x_train,y_train)\n",
    "\n",
    "gscv_tree_clf.best_params_"
   ]
  },
  {
   "cell_type": "code",
   "execution_count": 143,
   "id": "b2640c44",
   "metadata": {},
   "outputs": [
    {
     "name": "stdout",
     "output_type": "stream",
     "text": [
      "Accuracy Score = 0.8516666666666667\n",
      "              precision    recall  f1-score   support\n",
      "\n",
      "         0.0       0.89      0.90      0.89      2060\n",
      "         1.0       0.77      0.75      0.76       940\n",
      "\n",
      "    accuracy                           0.85      3000\n",
      "   macro avg       0.83      0.82      0.83      3000\n",
      "weighted avg       0.85      0.85      0.85      3000\n",
      "\n",
      "[[1851  209]\n",
      " [ 236  704]]\n",
      "################# Training ################\n",
      "Accuracy Score = 0.8582857142857143\n",
      "              precision    recall  f1-score   support\n",
      "\n",
      "         0.0       0.89      0.90      0.90      4807\n",
      "         1.0       0.78      0.76      0.77      2193\n",
      "\n",
      "    accuracy                           0.86      7000\n",
      "   macro avg       0.84      0.83      0.83      7000\n",
      "weighted avg       0.86      0.86      0.86      7000\n",
      "\n",
      "[[4333  474]\n",
      " [ 518 1675]]\n"
     ]
    }
   ],
   "source": [
    "y_pred_gscv_tree_clf = gscv_tree_clf.predict(x_test)\n",
    "##### Evaluation Testing \n",
    "\n",
    "acc = accuracy_score(y_test,y_pred_gscv_tree_clf)\n",
    "print(f\"Accuracy Score = {acc}\")\n",
    "print(classification_report(y_test,y_pred_gscv_tree_clf))\n",
    "print(confusion_matrix(y_test,y_pred_gscv_tree_clf))\n",
    "\n",
    "\n",
    "##### Evaluation Training \n",
    "print(\"################# Training ################\")\n",
    "y_pred_train = gscv_tree_clf.predict(x_train)\n",
    "\n",
    "acc = accuracy_score(y_train,y_pred_train)\n",
    "print(f\"Accuracy Score = {acc}\")\n",
    "print(classification_report(y_train,y_pred_train))\n",
    "print(confusion_matrix(y_train,y_pred_train))"
   ]
  },
  {
   "cell_type": "markdown",
   "id": "9ce3491c",
   "metadata": {},
   "source": [
    "# Random Forest"
   ]
  },
  {
   "cell_type": "code",
   "execution_count": 144,
   "id": "1f4ca8dc",
   "metadata": {},
   "outputs": [
    {
     "name": "stdout",
     "output_type": "stream",
     "text": [
      "testing data evaluation\n",
      "\n",
      "Accuracy Score = 0.8346666666666667\n",
      "              precision    recall  f1-score   support\n",
      "\n",
      "         0.0       0.86      0.91      0.88      2060\n",
      "         1.0       0.77      0.67      0.72       940\n",
      "\n",
      "    accuracy                           0.83      3000\n",
      "   macro avg       0.81      0.79      0.80      3000\n",
      "weighted avg       0.83      0.83      0.83      3000\n",
      "\n",
      "[[1872  188]\n",
      " [ 308  632]]\n",
      "**************************************************\n",
      "training data evaluation\n",
      "\n",
      "Accuracy Score = 0.999\n",
      "              precision    recall  f1-score   support\n",
      "\n",
      "         0.0       1.00      1.00      1.00      4807\n",
      "         1.0       1.00      1.00      1.00      2193\n",
      "\n",
      "    accuracy                           1.00      7000\n",
      "   macro avg       1.00      1.00      1.00      7000\n",
      "weighted avg       1.00      1.00      1.00      7000\n",
      "\n",
      "[[4802    5]\n",
      " [   2 2191]]\n"
     ]
    }
   ],
   "source": [
    "from sklearn.ensemble import RandomForestClassifier\n",
    "\n",
    "rf_clf = RandomForestClassifier()\n",
    "rf_clf.fit(x_train,y_train)\n",
    "\n",
    "############ Testing Data Evaluation ################\n",
    "print('testing data evaluation')\n",
    "print()\n",
    "y_pred_test_rf = rf_clf.predict(x_test)\n",
    "acc = accuracy_score(y_test,y_pred_test_rf)\n",
    "print(f\"Accuracy Score = {acc}\")\n",
    "print(classification_report(y_test,y_pred_test_rf))\n",
    "print(confusion_matrix(y_test,y_pred_test_rf))\n",
    "\n",
    "print('*'*50)\n",
    "\n",
    "########### Traning Data Evaluation ###############\n",
    "print('training data evaluation')\n",
    "print()\n",
    "y_pred_train = rf_clf.predict(x_train)\n",
    "acc = accuracy_score(y_train,y_pred_train)\n",
    "print(f\"Accuracy Score = {acc}\")\n",
    "print(classification_report(y_train,y_pred_train))\n",
    "print(confusion_matrix(y_train,y_pred_train))\n"
   ]
  },
  {
   "cell_type": "code",
   "execution_count": 145,
   "id": "a5d91a7d",
   "metadata": {},
   "outputs": [
    {
     "data": {
      "text/plain": [
       "{'n_estimators': 40,\n",
       " 'min_samples_split': 4,\n",
       " 'min_samples_leaf': 3,\n",
       " 'max_depth': 14,\n",
       " 'criterion': 'entropy'}"
      ]
     },
     "execution_count": 145,
     "metadata": {},
     "output_type": "execute_result"
    }
   ],
   "source": [
    "hyp = { 'n_estimators': np.arange(10,200,10),\n",
    "    'criterion' : ['gini','entropy'],\n",
    "        'max_depth' : np.arange(2,20),\n",
    "        'min_samples_split' : np.arange(2,5),\n",
    "        'min_samples_leaf' : np.arange(2,5)\n",
    "    \n",
    "}\n",
    "rscv_tree_clf  =  RandomizedSearchCV(rf_clf,hyp,cv=8)\n",
    "rscv_tree_clf.fit(x_train,y_train)\n",
    "\n",
    "rscv_tree_clf.best_params_"
   ]
  },
  {
   "cell_type": "code",
   "execution_count": 146,
   "id": "baa45cb3",
   "metadata": {},
   "outputs": [
    {
     "name": "stdout",
     "output_type": "stream",
     "text": [
      "Accuracy Score = 0.846\n",
      "              precision    recall  f1-score   support\n",
      "\n",
      "         0.0       0.87      0.91      0.89      2060\n",
      "         1.0       0.79      0.70      0.74       940\n",
      "\n",
      "    accuracy                           0.85      3000\n",
      "   macro avg       0.83      0.81      0.82      3000\n",
      "weighted avg       0.84      0.85      0.84      3000\n",
      "\n",
      "[[1882  178]\n",
      " [ 284  656]]\n",
      "################# Training ################\n",
      "Accuracy Score = 0.8935714285714286\n",
      "              precision    recall  f1-score   support\n",
      "\n",
      "         0.0       0.91      0.93      0.92      4807\n",
      "         1.0       0.85      0.80      0.83      2193\n",
      "\n",
      "    accuracy                           0.89      7000\n",
      "   macro avg       0.88      0.87      0.87      7000\n",
      "weighted avg       0.89      0.89      0.89      7000\n",
      "\n",
      "[[4490  317]\n",
      " [ 428 1765]]\n"
     ]
    }
   ],
   "source": [
    "y_pred_rscv_rf_clf = rscv_tree_clf.predict(x_test)\n",
    "##### Evaluation Testing \n",
    "\n",
    "acc = accuracy_score(y_test,y_pred_rscv_rf_clf)\n",
    "print(f\"Accuracy Score = {acc}\")\n",
    "print(classification_report(y_test,y_pred_rscv_rf_clf))\n",
    "print(confusion_matrix(y_test,y_pred_rscv_rf_clf))\n",
    "\n",
    "\n",
    "##### Evaluation Training \n",
    "print(\"################# Training ################\")\n",
    "y_pred_train = rscv_tree_clf.predict(x_train)\n",
    "\n",
    "acc = accuracy_score(y_train,y_pred_train)\n",
    "print(f\"Accuracy Score = {acc}\")\n",
    "print(classification_report(y_train,y_pred_train))\n",
    "print(confusion_matrix(y_train,y_pred_train))"
   ]
  },
  {
   "cell_type": "markdown",
   "id": "32ce6a9e",
   "metadata": {},
   "source": [
    "# ADABOOST CLASSIFICATION"
   ]
  },
  {
   "cell_type": "code",
   "execution_count": 147,
   "id": "27b8e47c",
   "metadata": {},
   "outputs": [
    {
     "name": "stdout",
     "output_type": "stream",
     "text": [
      "testing data evaluation\n",
      "\n",
      "Accuracy Score = 0.8473333333333334\n",
      "              precision    recall  f1-score   support\n",
      "\n",
      "         0.0       0.87      0.91      0.89      2060\n",
      "         1.0       0.78      0.71      0.74       940\n",
      "\n",
      "    accuracy                           0.85      3000\n",
      "   macro avg       0.83      0.81      0.82      3000\n",
      "weighted avg       0.84      0.85      0.85      3000\n",
      "\n",
      "[[1874  186]\n",
      " [ 272  668]]\n",
      "**************************************************\n",
      "training data evaluation\n",
      "\n",
      "Accuracy Score = 0.8487142857142858\n",
      "              precision    recall  f1-score   support\n",
      "\n",
      "         0.0       0.88      0.91      0.89      4807\n",
      "         1.0       0.78      0.72      0.75      2193\n",
      "\n",
      "    accuracy                           0.85      7000\n",
      "   macro avg       0.83      0.81      0.82      7000\n",
      "weighted avg       0.85      0.85      0.85      7000\n",
      "\n",
      "[[4366  441]\n",
      " [ 618 1575]]\n"
     ]
    }
   ],
   "source": [
    "from sklearn.ensemble import AdaBoostClassifier\n",
    "\n",
    "\n",
    "adb_clf = AdaBoostClassifier(n_estimators=150)\n",
    "adb_clf.fit(x_train,y_train)\n",
    "\n",
    "############ Testing Data Evaluation ################\n",
    "print('testing data evaluation')\n",
    "print()\n",
    "y_pred_test_ada = adb_clf.predict(x_test)\n",
    "acc = accuracy_score(y_test,y_pred_test_ada)\n",
    "print(f\"Accuracy Score = {acc}\")\n",
    "print(classification_report(y_test,y_pred_test_ada))\n",
    "print(confusion_matrix(y_test,y_pred_test_ada))\n",
    "\n",
    "print('*'*50)\n",
    "\n",
    "########### Traning Data Evaluation ###############\n",
    "print('training data evaluation')\n",
    "print()\n",
    "y_pred_train = adb_clf.predict(x_train)\n",
    "acc = accuracy_score(y_train,y_pred_train)\n",
    "print(f\"Accuracy Score = {acc}\")\n",
    "print(classification_report(y_train,y_pred_train))\n",
    "print(confusion_matrix(y_train,y_pred_train))"
   ]
  },
  {
   "cell_type": "code",
   "execution_count": 148,
   "id": "51ebd904",
   "metadata": {},
   "outputs": [
    {
     "data": {
      "text/plain": [
       "{'n_estimators': 140}"
      ]
     },
     "execution_count": 148,
     "metadata": {},
     "output_type": "execute_result"
    }
   ],
   "source": [
    "hyp = { 'n_estimators': np.arange(10,200,10)\n",
    "    \n",
    "}\n",
    "rscv_ada_clf  =  RandomizedSearchCV(adb_clf,hyp,cv=8)\n",
    "rscv_ada_clf.fit(x_train,y_train)\n",
    "\n",
    "rscv_ada_clf.best_params_"
   ]
  },
  {
   "cell_type": "code",
   "execution_count": 149,
   "id": "eb1f3ff0",
   "metadata": {},
   "outputs": [
    {
     "name": "stdout",
     "output_type": "stream",
     "text": [
      "Accuracy Score = 0.8473333333333334\n",
      "              precision    recall  f1-score   support\n",
      "\n",
      "         0.0       0.87      0.91      0.89      2060\n",
      "         1.0       0.78      0.71      0.74       940\n",
      "\n",
      "    accuracy                           0.85      3000\n",
      "   macro avg       0.83      0.81      0.82      3000\n",
      "weighted avg       0.84      0.85      0.85      3000\n",
      "\n",
      "[[1874  186]\n",
      " [ 272  668]]\n",
      "################# Training ################\n",
      "Accuracy Score = 0.8935714285714286\n",
      "              precision    recall  f1-score   support\n",
      "\n",
      "         0.0       0.91      0.93      0.92      4807\n",
      "         1.0       0.85      0.80      0.83      2193\n",
      "\n",
      "    accuracy                           0.89      7000\n",
      "   macro avg       0.88      0.87      0.87      7000\n",
      "weighted avg       0.89      0.89      0.89      7000\n",
      "\n",
      "[[4490  317]\n",
      " [ 428 1765]]\n"
     ]
    }
   ],
   "source": [
    "y_pred_rscv_ada_clf = rscv_ada_clf.predict(x_test)\n",
    "##### Evaluation Testing \n",
    "\n",
    "acc = accuracy_score(y_test,y_pred_rscv_ada_clf)\n",
    "print(f\"Accuracy Score = {acc}\")\n",
    "print(classification_report(y_test,y_pred_rscv_ada_clf))\n",
    "print(confusion_matrix(y_test,y_pred_rscv_ada_clf))\n",
    "\n",
    "\n",
    "##### Evaluation Training \n",
    "print(\"################# Training ################\")\n",
    "y_pred_train = rscv_tree_clf.predict(x_train)\n",
    "\n",
    "acc = accuracy_score(y_train,y_pred_train)\n",
    "print(f\"Accuracy Score = {acc}\")\n",
    "print(classification_report(y_train,y_pred_train))\n",
    "print(confusion_matrix(y_train,y_pred_train))"
   ]
  },
  {
   "cell_type": "code",
   "execution_count": 150,
   "id": "a64c82cc",
   "metadata": {},
   "outputs": [
    {
     "name": "stdout",
     "output_type": "stream",
     "text": [
      "Logestic Regression : 0.7896592244418331\n",
      "Decision Tree : 0.6790799561883899\n",
      "Decision Tree hyp rscv : 0.7738095238095238\n",
      "Decision Tree hyp gscv: 0.7710843373493976\n",
      "Random Forest : 0.7707317073170732\n",
      "Random Forest hyp rscv : 0.7865707434052758\n",
      "Adaboost  : 0.7822014051522248\n",
      "Adaboost hyp rscv : 0.7822014051522248\n"
     ]
    }
   ],
   "source": [
    "from sklearn.metrics import precision_score\n",
    "\n",
    "precision_logreg = precision_score(y_test,y_pred_test)\n",
    "precision_logreg\n",
    "precision_tree = precision_score(y_test, y_pred_test_tree)\n",
    "precision_tree\n",
    "precision_tree_hyp_rscv = precision_score(y_test,y_pred_rscv_tree_clf)\n",
    "precision_tree_hyp_rscv\n",
    "precision_tree_hyp_gscv = precision_score(y_test,y_pred_gscv_tree_clf)\n",
    "precision_tree_hyp_gscv\n",
    "precision_random_f = precision_score(y_test, y_pred_test_rf)\n",
    "precision_random_f\n",
    "precision_rf_hyp_rscv = precision_score(y_test,y_pred_rscv_rf_clf)\n",
    "precision_rf_hyp_rscv\n",
    "precision_adaboost = precision_score(y_test, y_pred_test_ada)\n",
    "precision_adaboost\n",
    "precision_ada_hyp_rscv = precision_score(y_test,y_pred_rscv_ada_clf)\n",
    "precision_ada_hyp_rscv\n",
    "print('Logestic Regression :', precision_logreg)\n",
    "print('Decision Tree :',precision_tree )\n",
    "print('Decision Tree hyp rscv :', precision_tree_hyp_rscv)\n",
    "print('Decision Tree hyp gscv:', precision_tree_hyp_gscv)\n",
    "print('Random Forest :', precision_random_f)\n",
    "print('Random Forest hyp rscv :', precision_rf_hyp_rscv)\n",
    "print('Adaboost  :', precision_adaboost)\n",
    "print('Adaboost hyp rscv :', precision_ada_hyp_rscv)\n"
   ]
  },
  {
   "cell_type": "code",
   "execution_count": 152,
   "id": "9ae767c9",
   "metadata": {},
   "outputs": [],
   "source": [
    "import pickle\n",
    "\n",
    "model = pickle.dump(lgrs,open('model1.pkl','wb'))"
   ]
  },
  {
   "cell_type": "code",
   "execution_count": 153,
   "id": "c61eaada",
   "metadata": {},
   "outputs": [],
   "source": [
    "columns = x_test.columns.to_list()"
   ]
  },
  {
   "cell_type": "code",
   "execution_count": 154,
   "id": "57047d3f",
   "metadata": {},
   "outputs": [],
   "source": [
    "column_dict = {'col_name':columns}"
   ]
  },
  {
   "cell_type": "code",
   "execution_count": 155,
   "id": "4b8aeb7f",
   "metadata": {},
   "outputs": [],
   "source": [
    "import json\n",
    "\n",
    "with open ('columns_name.json','w') as file:\n",
    "    json.dump(column_dict,file)"
   ]
  },
  {
   "cell_type": "code",
   "execution_count": 156,
   "id": "4d244585",
   "metadata": {},
   "outputs": [],
   "source": [
    "with open(\"columns_name.json\",\"r\") as json_file:\n",
    "    col_name = json.load(json_file)\n",
    "col_name_list =col_name['col_name']\n"
   ]
  },
  {
   "cell_type": "code",
   "execution_count": 157,
   "id": "39b91030",
   "metadata": {},
   "outputs": [
    {
     "data": {
      "text/plain": [
       "14"
      ]
     },
     "execution_count": 157,
     "metadata": {},
     "output_type": "execute_result"
    }
   ],
   "source": [
    "len(col_name_list)"
   ]
  },
  {
   "cell_type": "code",
   "execution_count": null,
   "id": "4965d247",
   "metadata": {},
   "outputs": [
    {
     "data": {
      "text/plain": [
       "['AGE',\n",
       " 'GENDER',\n",
       " 'RACE',\n",
       " 'DRIVING_EXPERIENCE',\n",
       " 'EDUCATION',\n",
       " 'INCOME',\n",
       " 'CREDIT_SCORE',\n",
       " 'VEHICLE_OWNERSHIP',\n",
       " 'VEHICLE_YEAR',\n",
       " 'MARRIED',\n",
       " 'CHILDREN',\n",
       " 'POSTAL_CODE',\n",
       " 'ANNUAL_MILEAGE',\n",
       " 'VEHICLE_TYPE',\n",
       " 'SPEEDING_VIOLATIONS',\n",
       " 'DUIS',\n",
       " 'PAST_ACCIDENTS']"
      ]
     },
     "execution_count": 91,
     "metadata": {},
     "output_type": "execute_result"
    }
   ],
   "source": [
    "col_name_list"
   ]
  },
  {
   "cell_type": "code",
   "execution_count": 158,
   "id": "6a67e17d",
   "metadata": {},
   "outputs": [
    {
     "data": {
      "text/html": [
       "<div>\n",
       "<style scoped>\n",
       "    .dataframe tbody tr th:only-of-type {\n",
       "        vertical-align: middle;\n",
       "    }\n",
       "\n",
       "    .dataframe tbody tr th {\n",
       "        vertical-align: top;\n",
       "    }\n",
       "\n",
       "    .dataframe thead th {\n",
       "        text-align: right;\n",
       "    }\n",
       "</style>\n",
       "<table border=\"1\" class=\"dataframe\">\n",
       "  <thead>\n",
       "    <tr style=\"text-align: right;\">\n",
       "      <th></th>\n",
       "      <th>AGE</th>\n",
       "      <th>GENDER</th>\n",
       "      <th>RACE</th>\n",
       "      <th>DRIVING_EXPERIENCE</th>\n",
       "      <th>INCOME</th>\n",
       "      <th>CREDIT_SCORE</th>\n",
       "      <th>VEHICLE_OWNERSHIP</th>\n",
       "      <th>VEHICLE_YEAR</th>\n",
       "      <th>POSTAL_CODE</th>\n",
       "      <th>ANNUAL_MILEAGE</th>\n",
       "      <th>VEHICLE_TYPE</th>\n",
       "      <th>SPEEDING_VIOLATIONS</th>\n",
       "      <th>DUIS</th>\n",
       "      <th>PAST_ACCIDENTS</th>\n",
       "    </tr>\n",
       "  </thead>\n",
       "  <tbody>\n",
       "    <tr>\n",
       "      <th>1032</th>\n",
       "      <td>0</td>\n",
       "      <td>0</td>\n",
       "      <td>1</td>\n",
       "      <td>0</td>\n",
       "      <td>1</td>\n",
       "      <td>0.508461</td>\n",
       "      <td>1.0</td>\n",
       "      <td>0</td>\n",
       "      <td>2</td>\n",
       "      <td>11000.0</td>\n",
       "      <td>0</td>\n",
       "      <td>0</td>\n",
       "      <td>0</td>\n",
       "      <td>0</td>\n",
       "    </tr>\n",
       "    <tr>\n",
       "      <th>19</th>\n",
       "      <td>0</td>\n",
       "      <td>0</td>\n",
       "      <td>1</td>\n",
       "      <td>0</td>\n",
       "      <td>2</td>\n",
       "      <td>0.417714</td>\n",
       "      <td>1.0</td>\n",
       "      <td>0</td>\n",
       "      <td>0</td>\n",
       "      <td>18000.0</td>\n",
       "      <td>0</td>\n",
       "      <td>0</td>\n",
       "      <td>0</td>\n",
       "      <td>0</td>\n",
       "    </tr>\n",
       "    <tr>\n",
       "      <th>962</th>\n",
       "      <td>2</td>\n",
       "      <td>0</td>\n",
       "      <td>1</td>\n",
       "      <td>2</td>\n",
       "      <td>0</td>\n",
       "      <td>0.398031</td>\n",
       "      <td>1.0</td>\n",
       "      <td>0</td>\n",
       "      <td>0</td>\n",
       "      <td>18000.0</td>\n",
       "      <td>0</td>\n",
       "      <td>0</td>\n",
       "      <td>0</td>\n",
       "      <td>0</td>\n",
       "    </tr>\n",
       "    <tr>\n",
       "      <th>6766</th>\n",
       "      <td>0</td>\n",
       "      <td>0</td>\n",
       "      <td>1</td>\n",
       "      <td>0</td>\n",
       "      <td>0</td>\n",
       "      <td>0.515813</td>\n",
       "      <td>0.0</td>\n",
       "      <td>0</td>\n",
       "      <td>0</td>\n",
       "      <td>15000.0</td>\n",
       "      <td>0</td>\n",
       "      <td>0</td>\n",
       "      <td>0</td>\n",
       "      <td>0</td>\n",
       "    </tr>\n",
       "    <tr>\n",
       "      <th>7724</th>\n",
       "      <td>2</td>\n",
       "      <td>1</td>\n",
       "      <td>0</td>\n",
       "      <td>2</td>\n",
       "      <td>1</td>\n",
       "      <td>0.533485</td>\n",
       "      <td>1.0</td>\n",
       "      <td>0</td>\n",
       "      <td>0</td>\n",
       "      <td>9000.0</td>\n",
       "      <td>0</td>\n",
       "      <td>6</td>\n",
       "      <td>0</td>\n",
       "      <td>2</td>\n",
       "    </tr>\n",
       "    <tr>\n",
       "      <th>4702</th>\n",
       "      <td>1</td>\n",
       "      <td>1</td>\n",
       "      <td>1</td>\n",
       "      <td>1</td>\n",
       "      <td>0</td>\n",
       "      <td>0.416662</td>\n",
       "      <td>0.0</td>\n",
       "      <td>0</td>\n",
       "      <td>0</td>\n",
       "      <td>12000.0</td>\n",
       "      <td>0</td>\n",
       "      <td>3</td>\n",
       "      <td>0</td>\n",
       "      <td>2</td>\n",
       "    </tr>\n",
       "    <tr>\n",
       "      <th>2381</th>\n",
       "      <td>0</td>\n",
       "      <td>1</td>\n",
       "      <td>1</td>\n",
       "      <td>0</td>\n",
       "      <td>1</td>\n",
       "      <td>0.638242</td>\n",
       "      <td>1.0</td>\n",
       "      <td>0</td>\n",
       "      <td>0</td>\n",
       "      <td>16000.0</td>\n",
       "      <td>0</td>\n",
       "      <td>0</td>\n",
       "      <td>0</td>\n",
       "      <td>0</td>\n",
       "    </tr>\n",
       "    <tr>\n",
       "      <th>5491</th>\n",
       "      <td>2</td>\n",
       "      <td>0</td>\n",
       "      <td>1</td>\n",
       "      <td>2</td>\n",
       "      <td>3</td>\n",
       "      <td>0.725626</td>\n",
       "      <td>1.0</td>\n",
       "      <td>1</td>\n",
       "      <td>2</td>\n",
       "      <td>5000.0</td>\n",
       "      <td>0</td>\n",
       "      <td>2</td>\n",
       "      <td>0</td>\n",
       "      <td>0</td>\n",
       "    </tr>\n",
       "    <tr>\n",
       "      <th>2434</th>\n",
       "      <td>2</td>\n",
       "      <td>0</td>\n",
       "      <td>1</td>\n",
       "      <td>0</td>\n",
       "      <td>0</td>\n",
       "      <td>0.401299</td>\n",
       "      <td>0.0</td>\n",
       "      <td>1</td>\n",
       "      <td>2</td>\n",
       "      <td>9000.0</td>\n",
       "      <td>0</td>\n",
       "      <td>0</td>\n",
       "      <td>0</td>\n",
       "      <td>0</td>\n",
       "    </tr>\n",
       "    <tr>\n",
       "      <th>6160</th>\n",
       "      <td>3</td>\n",
       "      <td>1</td>\n",
       "      <td>1</td>\n",
       "      <td>3</td>\n",
       "      <td>3</td>\n",
       "      <td>0.773160</td>\n",
       "      <td>1.0</td>\n",
       "      <td>0</td>\n",
       "      <td>2</td>\n",
       "      <td>8000.0</td>\n",
       "      <td>1</td>\n",
       "      <td>10</td>\n",
       "      <td>2</td>\n",
       "      <td>4</td>\n",
       "    </tr>\n",
       "  </tbody>\n",
       "</table>\n",
       "</div>"
      ],
      "text/plain": [
       "      AGE  GENDER  RACE  DRIVING_EXPERIENCE  INCOME  CREDIT_SCORE  \\\n",
       "1032    0       0     1                   0       1      0.508461   \n",
       "19      0       0     1                   0       2      0.417714   \n",
       "962     2       0     1                   2       0      0.398031   \n",
       "6766    0       0     1                   0       0      0.515813   \n",
       "7724    2       1     0                   2       1      0.533485   \n",
       "4702    1       1     1                   1       0      0.416662   \n",
       "2381    0       1     1                   0       1      0.638242   \n",
       "5491    2       0     1                   2       3      0.725626   \n",
       "2434    2       0     1                   0       0      0.401299   \n",
       "6160    3       1     1                   3       3      0.773160   \n",
       "\n",
       "      VEHICLE_OWNERSHIP  VEHICLE_YEAR  POSTAL_CODE  ANNUAL_MILEAGE  \\\n",
       "1032                1.0             0            2         11000.0   \n",
       "19                  1.0             0            0         18000.0   \n",
       "962                 1.0             0            0         18000.0   \n",
       "6766                0.0             0            0         15000.0   \n",
       "7724                1.0             0            0          9000.0   \n",
       "4702                0.0             0            0         12000.0   \n",
       "2381                1.0             0            0         16000.0   \n",
       "5491                1.0             1            2          5000.0   \n",
       "2434                0.0             1            2          9000.0   \n",
       "6160                1.0             0            2          8000.0   \n",
       "\n",
       "      VEHICLE_TYPE  SPEEDING_VIOLATIONS  DUIS  PAST_ACCIDENTS  \n",
       "1032             0                    0     0               0  \n",
       "19               0                    0     0               0  \n",
       "962              0                    0     0               0  \n",
       "6766             0                    0     0               0  \n",
       "7724             0                    6     0               2  \n",
       "4702             0                    3     0               2  \n",
       "2381             0                    0     0               0  \n",
       "5491             0                    2     0               0  \n",
       "2434             0                    0     0               0  \n",
       "6160             1                   10     2               4  "
      ]
     },
     "execution_count": 158,
     "metadata": {},
     "output_type": "execute_result"
    }
   ],
   "source": [
    "x_test.head(10)"
   ]
  },
  {
   "cell_type": "code",
   "execution_count": 159,
   "id": "fa4548a6",
   "metadata": {},
   "outputs": [],
   "source": [
    "model = pickle.load(open(\"model1.pkl\",\"rb\"))"
   ]
  },
  {
   "cell_type": "code",
   "execution_count": 160,
   "id": "9491383a",
   "metadata": {},
   "outputs": [
    {
     "data": {
      "text/html": [
       "<style>#sk-container-id-1 {color: black;background-color: white;}#sk-container-id-1 pre{padding: 0;}#sk-container-id-1 div.sk-toggleable {background-color: white;}#sk-container-id-1 label.sk-toggleable__label {cursor: pointer;display: block;width: 100%;margin-bottom: 0;padding: 0.3em;box-sizing: border-box;text-align: center;}#sk-container-id-1 label.sk-toggleable__label-arrow:before {content: \"▸\";float: left;margin-right: 0.25em;color: #696969;}#sk-container-id-1 label.sk-toggleable__label-arrow:hover:before {color: black;}#sk-container-id-1 div.sk-estimator:hover label.sk-toggleable__label-arrow:before {color: black;}#sk-container-id-1 div.sk-toggleable__content {max-height: 0;max-width: 0;overflow: hidden;text-align: left;background-color: #f0f8ff;}#sk-container-id-1 div.sk-toggleable__content pre {margin: 0.2em;color: black;border-radius: 0.25em;background-color: #f0f8ff;}#sk-container-id-1 input.sk-toggleable__control:checked~div.sk-toggleable__content {max-height: 200px;max-width: 100%;overflow: auto;}#sk-container-id-1 input.sk-toggleable__control:checked~label.sk-toggleable__label-arrow:before {content: \"▾\";}#sk-container-id-1 div.sk-estimator input.sk-toggleable__control:checked~label.sk-toggleable__label {background-color: #d4ebff;}#sk-container-id-1 div.sk-label input.sk-toggleable__control:checked~label.sk-toggleable__label {background-color: #d4ebff;}#sk-container-id-1 input.sk-hidden--visually {border: 0;clip: rect(1px 1px 1px 1px);clip: rect(1px, 1px, 1px, 1px);height: 1px;margin: -1px;overflow: hidden;padding: 0;position: absolute;width: 1px;}#sk-container-id-1 div.sk-estimator {font-family: monospace;background-color: #f0f8ff;border: 1px dotted black;border-radius: 0.25em;box-sizing: border-box;margin-bottom: 0.5em;}#sk-container-id-1 div.sk-estimator:hover {background-color: #d4ebff;}#sk-container-id-1 div.sk-parallel-item::after {content: \"\";width: 100%;border-bottom: 1px solid gray;flex-grow: 1;}#sk-container-id-1 div.sk-label:hover label.sk-toggleable__label {background-color: #d4ebff;}#sk-container-id-1 div.sk-serial::before {content: \"\";position: absolute;border-left: 1px solid gray;box-sizing: border-box;top: 0;bottom: 0;left: 50%;z-index: 0;}#sk-container-id-1 div.sk-serial {display: flex;flex-direction: column;align-items: center;background-color: white;padding-right: 0.2em;padding-left: 0.2em;position: relative;}#sk-container-id-1 div.sk-item {position: relative;z-index: 1;}#sk-container-id-1 div.sk-parallel {display: flex;align-items: stretch;justify-content: center;background-color: white;position: relative;}#sk-container-id-1 div.sk-item::before, #sk-container-id-1 div.sk-parallel-item::before {content: \"\";position: absolute;border-left: 1px solid gray;box-sizing: border-box;top: 0;bottom: 0;left: 50%;z-index: -1;}#sk-container-id-1 div.sk-parallel-item {display: flex;flex-direction: column;z-index: 1;position: relative;background-color: white;}#sk-container-id-1 div.sk-parallel-item:first-child::after {align-self: flex-end;width: 50%;}#sk-container-id-1 div.sk-parallel-item:last-child::after {align-self: flex-start;width: 50%;}#sk-container-id-1 div.sk-parallel-item:only-child::after {width: 0;}#sk-container-id-1 div.sk-dashed-wrapped {border: 1px dashed gray;margin: 0 0.4em 0.5em 0.4em;box-sizing: border-box;padding-bottom: 0.4em;background-color: white;}#sk-container-id-1 div.sk-label label {font-family: monospace;font-weight: bold;display: inline-block;line-height: 1.2em;}#sk-container-id-1 div.sk-label-container {text-align: center;}#sk-container-id-1 div.sk-container {/* jupyter's `normalize.less` sets `[hidden] { display: none; }` but bootstrap.min.css set `[hidden] { display: none !important; }` so we also need the `!important` here to be able to override the default hidden behavior on the sphinx rendered scikit-learn.org. See: https://github.com/scikit-learn/scikit-learn/issues/21755 */display: inline-block !important;position: relative;}#sk-container-id-1 div.sk-text-repr-fallback {display: none;}</style><div id=\"sk-container-id-1\" class=\"sk-top-container\"><div class=\"sk-text-repr-fallback\"><pre>LogisticRegression()</pre><b>In a Jupyter environment, please rerun this cell to show the HTML representation or trust the notebook. <br />On GitHub, the HTML representation is unable to render, please try loading this page with nbviewer.org.</b></div><div class=\"sk-container\" hidden><div class=\"sk-item\"><div class=\"sk-estimator sk-toggleable\"><input class=\"sk-toggleable__control sk-hidden--visually\" id=\"sk-estimator-id-1\" type=\"checkbox\" checked><label for=\"sk-estimator-id-1\" class=\"sk-toggleable__label sk-toggleable__label-arrow\">LogisticRegression</label><div class=\"sk-toggleable__content\"><pre>LogisticRegression()</pre></div></div></div></div></div>"
      ],
      "text/plain": [
       "LogisticRegression()"
      ]
     },
     "execution_count": 160,
     "metadata": {},
     "output_type": "execute_result"
    }
   ],
   "source": [
    "model"
   ]
  },
  {
   "cell_type": "code",
   "execution_count": null,
   "id": "2cbe84eb",
   "metadata": {},
   "outputs": [],
   "source": []
  }
 ],
 "metadata": {
  "kernelspec": {
   "display_name": "Python 3.10.5 64-bit",
   "language": "python",
   "name": "python3"
  },
  "language_info": {
   "codemirror_mode": {
    "name": "ipython",
    "version": 3
   },
   "file_extension": ".py",
   "mimetype": "text/x-python",
   "name": "python",
   "nbconvert_exporter": "python",
   "pygments_lexer": "ipython3",
   "version": "3.10.5"
  },
  "vscode": {
   "interpreter": {
    "hash": "4b53ff84109075ddb41728aefb653fc9055bacadf873efbd378cf4cc8d8bbb3f"
   }
  }
 },
 "nbformat": 4,
 "nbformat_minor": 5
}
